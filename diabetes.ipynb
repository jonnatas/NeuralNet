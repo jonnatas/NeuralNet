{
 "cells": [
  {
   "cell_type": "markdown",
   "metadata": {},
   "source": [
    "O dataset utilizado foi obtido em https://www.kaggle.com/uciml/pima-indians-diabetes-database/data. Refere-se a um famoso estudo com duração de 5 anos, envolvendo mulheres da tribo indigina norte-americana Prima, situada no estado do Arizona. Este estudo foi realizado para identificar a ocorrência de diabetes hereditaria.\n",
    "\n",
    "Parametros:\n",
    "1. Numero de vezes grávida;\n",
    "2. Concentração plasmática de glicose, colido sistematicamente as 14h, com um teste oral de tolerância à glicose\n",
    "3. Pressão arterial diastólica (mm Hg)\n",
    "4. Espessura da dobra da pele do tríceps (mm)\n",
    "5. Insulina sérica as 14 horas (mu U / ml)\n",
    "6. IMC\n",
    "7. Função pedigree da diabetes;\n",
    "8. Idade (anos);\n",
    "9. Possui diabetes 1, não possue 0;"
   ]
  },
  {
   "cell_type": "code",
   "execution_count": 1,
   "metadata": {},
   "outputs": [
    {
     "name": "stderr",
     "output_type": "stream",
     "text": [
      "Using TensorFlow backend.\n"
     ]
    }
   ],
   "source": [
    "from keras.models import Sequential\n",
    "from keras.layers import Dense\n",
    "from keras import optimizers\n",
    "from sklearn.model_selection import train_test_split\n",
    "import numpy as np\n",
    "import os\n",
    "import matplotlib\n",
    "import matplotlib.pyplot as plt\n",
    "import matplotlib.animation as animation\n",
    "import datetime\n",
    "##Plotting it \n",
    "%matplotlib inline"
   ]
  },
  {
   "cell_type": "markdown",
   "metadata": {},
   "source": [
    "### Fixa um 'seed', para reproduzir os mesmos resultados, para treinar e avaliar nossa rede mais de uma vez.\n"
   ]
  },
  {
   "cell_type": "code",
   "execution_count": 2,
   "metadata": {},
   "outputs": [],
   "source": [
    "np.random.seed(7)"
   ]
  },
  {
   "cell_type": "markdown",
   "metadata": {},
   "source": [
    "### carrregando dataset, utilizando o numpy para ler o csv"
   ]
  },
  {
   "cell_type": "code",
   "execution_count": 3,
   "metadata": {},
   "outputs": [],
   "source": [
    "dataset = np.loadtxt(\"diabetes.csv\", delimiter=\",\")"
   ]
  },
  {
   "cell_type": "markdown",
   "metadata": {},
   "source": [
    "## Separando os dados em entrada e saida, 8 primeiros entrada e o último saída."
   ]
  },
  {
   "cell_type": "code",
   "execution_count": 4,
   "metadata": {},
   "outputs": [],
   "source": [
    "x = dataset[:, 0:8]\n",
    "y = dataset[:, 8]"
   ]
  },
  {
   "cell_type": "markdown",
   "metadata": {},
   "source": [
    "## Aplicando scaler pra normalizar dados (Opcional)"
   ]
  },
  {
   "cell_type": "code",
   "execution_count": 5,
   "metadata": {},
   "outputs": [],
   "source": [
    "from sklearn.preprocessing import StandardScaler\n",
    "scaler = StandardScaler()\n",
    "X_scaler = scaler.fit_transform(x)"
   ]
  },
  {
   "cell_type": "markdown",
   "metadata": {},
   "source": [
    "## Separando dados pra treino e teste"
   ]
  },
  {
   "cell_type": "code",
   "execution_count": 6,
   "metadata": {},
   "outputs": [],
   "source": [
    "xTreino, xTeste, yTreino, yTeste = train_test_split(X_scaler, y, test_size=0.15, random_state=1)"
   ]
  },
  {
   "cell_type": "markdown",
   "metadata": {},
   "source": [
    "# Definindo o modelo"
   ]
  },
  {
   "cell_type": "markdown",
   "metadata": {},
   "source": [
    "* 8 entradas\n",
    "* Camadas \"Fully connected\"\n",
    "* 12 , (6,5) , 1 neuronios por camada\n",
    "* Pesos definidos aleatóriamente [0, 0.05]\n",
    "* Funções de ativação rectifier, rectifier, sigmoid"
   ]
  },
  {
   "cell_type": "code",
   "execution_count": 7,
   "metadata": {},
   "outputs": [],
   "source": [
    "model = Sequential()\n",
    "# relu, sigmoid, tanh\n",
    "model.add(Dense(12,use_bias=True, input_dim=8, activation='tanh'))\n",
    "model.add(Dense(5, activation='tanh'))\n",
    "model.add(Dense(1, activation='sigmoid'))"
   ]
  },
  {
   "cell_type": "markdown",
   "metadata": {},
   "source": [
    "## Otimizando o modelo"
   ]
  },
  {
   "cell_type": "code",
   "execution_count": 8,
   "metadata": {},
   "outputs": [],
   "source": [
    "sgd = optimizers.SGD(lr=0.1, decay=1e-6, momentum=0.9, nesterov=True)"
   ]
  },
  {
   "cell_type": "markdown",
   "metadata": {},
   "source": [
    "## compilando o modelo "
   ]
  },
  {
   "cell_type": "code",
   "execution_count": 9,
   "metadata": {},
   "outputs": [],
   "source": [
    "model.compile(loss='binary_crossentropy', optimizer=sgd, metrics=['accuracy'])"
   ]
  },
  {
   "cell_type": "markdown",
   "metadata": {},
   "source": [
    "## Treinando o modelo "
   ]
  },
  {
   "cell_type": "code",
   "execution_count": 10,
   "metadata": {},
   "outputs": [
    {
     "name": "stdout",
     "output_type": "stream",
     "text": [
      "Train on 554 samples, validate on 98 samples\n",
      "Epoch 1/100\n",
      "554/554 [==============================] - 0s 287us/step - loss: 0.5685 - acc: 0.7058 - val_loss: 0.4827 - val_acc: 0.7551\n",
      "Epoch 2/100\n",
      "554/554 [==============================] - 0s 66us/step - loss: 0.4917 - acc: 0.7671 - val_loss: 0.4754 - val_acc: 0.7857\n",
      "Epoch 3/100\n",
      "554/554 [==============================] - 0s 60us/step - loss: 0.4772 - acc: 0.7635 - val_loss: 0.4591 - val_acc: 0.7449\n",
      "Epoch 4/100\n",
      "554/554 [==============================] - 0s 70us/step - loss: 0.4668 - acc: 0.7690 - val_loss: 0.4911 - val_acc: 0.7245\n",
      "Epoch 5/100\n",
      "554/554 [==============================] - 0s 72us/step - loss: 0.4616 - acc: 0.7744 - val_loss: 0.4651 - val_acc: 0.7041\n",
      "Epoch 6/100\n",
      "554/554 [==============================] - 0s 60us/step - loss: 0.4613 - acc: 0.7852 - val_loss: 0.4661 - val_acc: 0.7143\n",
      "Epoch 7/100\n",
      "554/554 [==============================] - 0s 57us/step - loss: 0.4538 - acc: 0.7942 - val_loss: 0.4786 - val_acc: 0.7143\n",
      "Epoch 8/100\n",
      "554/554 [==============================] - 0s 66us/step - loss: 0.4495 - acc: 0.7816 - val_loss: 0.4882 - val_acc: 0.7245\n",
      "Epoch 9/100\n",
      "554/554 [==============================] - 0s 67us/step - loss: 0.4549 - acc: 0.7780 - val_loss: 0.4668 - val_acc: 0.6837\n",
      "Epoch 10/100\n",
      "554/554 [==============================] - 0s 61us/step - loss: 0.4421 - acc: 0.7870 - val_loss: 0.4744 - val_acc: 0.7347\n",
      "Epoch 11/100\n",
      "554/554 [==============================] - 0s 61us/step - loss: 0.4356 - acc: 0.7942 - val_loss: 0.4661 - val_acc: 0.7143\n",
      "Epoch 12/100\n",
      "554/554 [==============================] - 0s 62us/step - loss: 0.4395 - acc: 0.7906 - val_loss: 0.4858 - val_acc: 0.6837\n",
      "Epoch 13/100\n",
      "554/554 [==============================] - 0s 38us/step - loss: 0.4327 - acc: 0.7978 - val_loss: 0.4835 - val_acc: 0.7041\n",
      "Epoch 14/100\n",
      "554/554 [==============================] - 0s 66us/step - loss: 0.4333 - acc: 0.7978 - val_loss: 0.4413 - val_acc: 0.7653\n",
      "Epoch 15/100\n",
      "554/554 [==============================] - 0s 60us/step - loss: 0.4295 - acc: 0.7960 - val_loss: 0.5253 - val_acc: 0.6837\n",
      "Epoch 16/100\n",
      "554/554 [==============================] - 0s 51us/step - loss: 0.4184 - acc: 0.7924 - val_loss: 0.4786 - val_acc: 0.7143\n",
      "Epoch 17/100\n",
      "554/554 [==============================] - 0s 44us/step - loss: 0.4129 - acc: 0.8087 - val_loss: 0.4803 - val_acc: 0.7347\n",
      "Epoch 18/100\n",
      "554/554 [==============================] - 0s 53us/step - loss: 0.4172 - acc: 0.8087 - val_loss: 0.5068 - val_acc: 0.7245\n",
      "Epoch 19/100\n",
      "554/554 [==============================] - 0s 64us/step - loss: 0.4039 - acc: 0.8159 - val_loss: 0.5664 - val_acc: 0.7143\n",
      "Epoch 20/100\n",
      "554/554 [==============================] - 0s 69us/step - loss: 0.4249 - acc: 0.8141 - val_loss: 0.4611 - val_acc: 0.7449\n",
      "Epoch 21/100\n",
      "554/554 [==============================] - 0s 59us/step - loss: 0.4035 - acc: 0.8177 - val_loss: 0.4666 - val_acc: 0.7551\n",
      "Epoch 22/100\n",
      "554/554 [==============================] - 0s 49us/step - loss: 0.3967 - acc: 0.8231 - val_loss: 0.5350 - val_acc: 0.7245\n",
      "Epoch 23/100\n",
      "554/554 [==============================] - 0s 59us/step - loss: 0.4022 - acc: 0.8195 - val_loss: 0.5066 - val_acc: 0.7551\n",
      "Epoch 24/100\n",
      "554/554 [==============================] - 0s 65us/step - loss: 0.3915 - acc: 0.8285 - val_loss: 0.5098 - val_acc: 0.7449\n",
      "Epoch 25/100\n",
      "554/554 [==============================] - 0s 57us/step - loss: 0.3820 - acc: 0.8321 - val_loss: 0.5217 - val_acc: 0.7143\n",
      "Epoch 26/100\n",
      "554/554 [==============================] - 0s 70us/step - loss: 0.3777 - acc: 0.8357 - val_loss: 0.5417 - val_acc: 0.7551\n",
      "Epoch 27/100\n",
      "554/554 [==============================] - 0s 60us/step - loss: 0.4032 - acc: 0.8069 - val_loss: 0.4922 - val_acc: 0.7347\n",
      "Epoch 28/100\n",
      "554/554 [==============================] - 0s 47us/step - loss: 0.3862 - acc: 0.8231 - val_loss: 0.5264 - val_acc: 0.7041\n",
      "Epoch 29/100\n",
      "554/554 [==============================] - 0s 62us/step - loss: 0.3690 - acc: 0.8357 - val_loss: 0.5471 - val_acc: 0.7041\n",
      "Epoch 30/100\n",
      "554/554 [==============================] - 0s 60us/step - loss: 0.3577 - acc: 0.8610 - val_loss: 0.5501 - val_acc: 0.7041\n",
      "Epoch 31/100\n",
      "554/554 [==============================] - 0s 51us/step - loss: 0.3532 - acc: 0.8466 - val_loss: 0.5235 - val_acc: 0.7245\n",
      "Epoch 32/100\n",
      "554/554 [==============================] - 0s 57us/step - loss: 0.3528 - acc: 0.8556 - val_loss: 0.5276 - val_acc: 0.7143\n",
      "Epoch 33/100\n",
      "554/554 [==============================] - 0s 47us/step - loss: 0.3358 - acc: 0.8592 - val_loss: 0.5752 - val_acc: 0.7347\n",
      "Epoch 34/100\n",
      "554/554 [==============================] - 0s 53us/step - loss: 0.3463 - acc: 0.8484 - val_loss: 0.6274 - val_acc: 0.6939\n",
      "Epoch 35/100\n",
      "554/554 [==============================] - 0s 61us/step - loss: 0.3481 - acc: 0.8448 - val_loss: 0.5454 - val_acc: 0.7449\n",
      "Epoch 36/100\n",
      "554/554 [==============================] - 0s 51us/step - loss: 0.3457 - acc: 0.8502 - val_loss: 0.6241 - val_acc: 0.7041\n",
      "Epoch 37/100\n",
      "554/554 [==============================] - 0s 61us/step - loss: 0.3265 - acc: 0.8628 - val_loss: 0.5805 - val_acc: 0.7245\n",
      "Epoch 38/100\n",
      "554/554 [==============================] - 0s 76us/step - loss: 0.3372 - acc: 0.8556 - val_loss: 0.5964 - val_acc: 0.7245\n",
      "Epoch 39/100\n",
      "554/554 [==============================] - 0s 60us/step - loss: 0.3301 - acc: 0.8646 - val_loss: 0.6132 - val_acc: 0.7143\n",
      "Epoch 40/100\n",
      "554/554 [==============================] - 0s 57us/step - loss: 0.3206 - acc: 0.8628 - val_loss: 0.5873 - val_acc: 0.7449\n",
      "Epoch 41/100\n",
      "554/554 [==============================] - 0s 63us/step - loss: 0.3133 - acc: 0.8809 - val_loss: 0.6031 - val_acc: 0.7245\n",
      "Epoch 42/100\n",
      "554/554 [==============================] - 0s 63us/step - loss: 0.3127 - acc: 0.8682 - val_loss: 0.7150 - val_acc: 0.7143\n",
      "Epoch 43/100\n",
      "554/554 [==============================] - 0s 60us/step - loss: 0.3032 - acc: 0.8809 - val_loss: 0.5813 - val_acc: 0.7449\n",
      "Epoch 44/100\n",
      "554/554 [==============================] - 0s 69us/step - loss: 0.3061 - acc: 0.8791 - val_loss: 0.6497 - val_acc: 0.7041\n",
      "Epoch 45/100\n",
      "554/554 [==============================] - 0s 55us/step - loss: 0.2909 - acc: 0.8845 - val_loss: 0.6903 - val_acc: 0.7347\n",
      "Epoch 46/100\n",
      "554/554 [==============================] - 0s 62us/step - loss: 0.2947 - acc: 0.8773 - val_loss: 0.6930 - val_acc: 0.7041\n",
      "Epoch 47/100\n",
      "554/554 [==============================] - 0s 56us/step - loss: 0.2918 - acc: 0.8827 - val_loss: 0.6466 - val_acc: 0.7245\n",
      "Epoch 48/100\n",
      "554/554 [==============================] - 0s 56us/step - loss: 0.2814 - acc: 0.8953 - val_loss: 0.6420 - val_acc: 0.7347\n",
      "Epoch 49/100\n",
      "554/554 [==============================] - 0s 46us/step - loss: 0.2764 - acc: 0.8899 - val_loss: 0.6665 - val_acc: 0.7449\n",
      "Epoch 50/100\n",
      "554/554 [==============================] - 0s 61us/step - loss: 0.2802 - acc: 0.8953 - val_loss: 0.6836 - val_acc: 0.7041\n",
      "Epoch 51/100\n",
      "554/554 [==============================] - 0s 58us/step - loss: 0.3101 - acc: 0.8736 - val_loss: 0.5917 - val_acc: 0.7245\n",
      "Epoch 52/100\n",
      "554/554 [==============================] - 0s 61us/step - loss: 0.2806 - acc: 0.8899 - val_loss: 0.6281 - val_acc: 0.7143\n",
      "Epoch 53/100\n",
      "554/554 [==============================] - 0s 53us/step - loss: 0.2898 - acc: 0.8917 - val_loss: 0.6280 - val_acc: 0.7347\n",
      "Epoch 54/100\n",
      "554/554 [==============================] - 0s 66us/step - loss: 0.2749 - acc: 0.8917 - val_loss: 0.6792 - val_acc: 0.7143\n",
      "Epoch 55/100\n",
      "554/554 [==============================] - 0s 62us/step - loss: 0.2645 - acc: 0.9097 - val_loss: 0.7314 - val_acc: 0.7143\n",
      "Epoch 56/100\n",
      "554/554 [==============================] - 0s 48us/step - loss: 0.2598 - acc: 0.8971 - val_loss: 0.6284 - val_acc: 0.7857\n",
      "Epoch 57/100\n",
      "554/554 [==============================] - 0s 53us/step - loss: 0.2632 - acc: 0.9007 - val_loss: 0.6883 - val_acc: 0.7449\n",
      "Epoch 58/100\n",
      "554/554 [==============================] - 0s 46us/step - loss: 0.2542 - acc: 0.9007 - val_loss: 0.6968 - val_acc: 0.7653\n",
      "Epoch 59/100\n",
      "554/554 [==============================] - 0s 60us/step - loss: 0.2472 - acc: 0.9152 - val_loss: 0.7979 - val_acc: 0.7041\n",
      "Epoch 60/100\n",
      "554/554 [==============================] - 0s 52us/step - loss: 0.2629 - acc: 0.9043 - val_loss: 0.7191 - val_acc: 0.7041\n",
      "Epoch 61/100\n"
     ]
    },
    {
     "name": "stdout",
     "output_type": "stream",
     "text": [
      "554/554 [==============================] - 0s 46us/step - loss: 0.2461 - acc: 0.9043 - val_loss: 0.7200 - val_acc: 0.7245\n",
      "Epoch 62/100\n",
      "554/554 [==============================] - 0s 63us/step - loss: 0.2524 - acc: 0.9116 - val_loss: 0.7337 - val_acc: 0.7347\n",
      "Epoch 63/100\n",
      "554/554 [==============================] - 0s 60us/step - loss: 0.2510 - acc: 0.9043 - val_loss: 0.8357 - val_acc: 0.6735\n",
      "Epoch 64/100\n",
      "554/554 [==============================] - 0s 80us/step - loss: 0.2817 - acc: 0.8989 - val_loss: 0.7345 - val_acc: 0.6939\n",
      "Epoch 65/100\n",
      "554/554 [==============================] - 0s 82us/step - loss: 0.2726 - acc: 0.8917 - val_loss: 0.8508 - val_acc: 0.6939\n",
      "Epoch 66/100\n",
      "554/554 [==============================] - 0s 68us/step - loss: 0.2811 - acc: 0.9043 - val_loss: 0.8425 - val_acc: 0.7245\n",
      "Epoch 67/100\n",
      "554/554 [==============================] - 0s 89us/step - loss: 0.3136 - acc: 0.8845 - val_loss: 0.6814 - val_acc: 0.7449\n",
      "Epoch 68/100\n",
      "554/554 [==============================] - 0s 71us/step - loss: 0.2791 - acc: 0.8935 - val_loss: 0.7777 - val_acc: 0.6735\n",
      "Epoch 69/100\n",
      "554/554 [==============================] - 0s 83us/step - loss: 0.2966 - acc: 0.8971 - val_loss: 0.7009 - val_acc: 0.7143\n",
      "Epoch 70/100\n",
      "554/554 [==============================] - 0s 74us/step - loss: 0.2677 - acc: 0.8971 - val_loss: 0.7295 - val_acc: 0.6837\n",
      "Epoch 71/100\n",
      "554/554 [==============================] - 0s 79us/step - loss: 0.2540 - acc: 0.9043 - val_loss: 0.8227 - val_acc: 0.6939\n",
      "Epoch 72/100\n",
      "554/554 [==============================] - 0s 65us/step - loss: 0.2454 - acc: 0.9152 - val_loss: 0.7883 - val_acc: 0.7041\n",
      "Epoch 73/100\n",
      "554/554 [==============================] - 0s 80us/step - loss: 0.2522 - acc: 0.9061 - val_loss: 0.7744 - val_acc: 0.6735\n",
      "Epoch 74/100\n",
      "554/554 [==============================] - 0s 77us/step - loss: 0.2413 - acc: 0.9097 - val_loss: 0.7449 - val_acc: 0.6939\n",
      "Epoch 75/100\n",
      "554/554 [==============================] - 0s 78us/step - loss: 0.2331 - acc: 0.9134 - val_loss: 0.7937 - val_acc: 0.6837\n",
      "Epoch 76/100\n",
      "554/554 [==============================] - 0s 74us/step - loss: 0.2368 - acc: 0.9061 - val_loss: 0.7098 - val_acc: 0.7041\n",
      "Epoch 77/100\n",
      "554/554 [==============================] - 0s 68us/step - loss: 0.2345 - acc: 0.9061 - val_loss: 0.7439 - val_acc: 0.7041\n",
      "Epoch 78/100\n",
      "554/554 [==============================] - 0s 64us/step - loss: 0.2330 - acc: 0.9134 - val_loss: 0.7634 - val_acc: 0.7041\n",
      "Epoch 79/100\n",
      "554/554 [==============================] - 0s 62us/step - loss: 0.2489 - acc: 0.9007 - val_loss: 0.7683 - val_acc: 0.6939\n",
      "Epoch 80/100\n",
      "554/554 [==============================] - 0s 73us/step - loss: 0.2449 - acc: 0.9061 - val_loss: 0.7158 - val_acc: 0.7245\n",
      "Epoch 81/100\n",
      "554/554 [==============================] - 0s 69us/step - loss: 0.2368 - acc: 0.9188 - val_loss: 0.7530 - val_acc: 0.6735\n",
      "Epoch 82/100\n",
      "554/554 [==============================] - 0s 59us/step - loss: 0.2365 - acc: 0.9007 - val_loss: 0.7736 - val_acc: 0.6735\n",
      "Epoch 83/100\n",
      "554/554 [==============================] - 0s 76us/step - loss: 0.2276 - acc: 0.9134 - val_loss: 0.7690 - val_acc: 0.7245\n",
      "Epoch 84/100\n",
      "554/554 [==============================] - 0s 63us/step - loss: 0.2206 - acc: 0.9134 - val_loss: 0.7956 - val_acc: 0.7041\n",
      "Epoch 85/100\n",
      "554/554 [==============================] - 0s 59us/step - loss: 0.2125 - acc: 0.9170 - val_loss: 0.8198 - val_acc: 0.6939\n",
      "Epoch 86/100\n",
      "554/554 [==============================] - 0s 83us/step - loss: 0.2082 - acc: 0.9170 - val_loss: 0.8218 - val_acc: 0.7245\n",
      "Epoch 87/100\n",
      "554/554 [==============================] - 0s 57us/step - loss: 0.2056 - acc: 0.9260 - val_loss: 0.8169 - val_acc: 0.7143\n",
      "Epoch 88/100\n",
      "554/554 [==============================] - 0s 62us/step - loss: 0.2109 - acc: 0.9188 - val_loss: 0.8220 - val_acc: 0.7041\n",
      "Epoch 89/100\n",
      "554/554 [==============================] - 0s 58us/step - loss: 0.2129 - acc: 0.9152 - val_loss: 0.8619 - val_acc: 0.6837\n",
      "Epoch 90/100\n",
      "554/554 [==============================] - 0s 74us/step - loss: 0.2135 - acc: 0.9152 - val_loss: 0.8109 - val_acc: 0.7041\n",
      "Epoch 91/100\n",
      "554/554 [==============================] - 0s 54us/step - loss: 0.2083 - acc: 0.9260 - val_loss: 0.8162 - val_acc: 0.7041\n",
      "Epoch 92/100\n",
      "554/554 [==============================] - 0s 65us/step - loss: 0.2293 - acc: 0.9206 - val_loss: 0.8015 - val_acc: 0.6939\n",
      "Epoch 93/100\n",
      "554/554 [==============================] - 0s 62us/step - loss: 0.2112 - acc: 0.9206 - val_loss: 0.8078 - val_acc: 0.7041\n",
      "Epoch 94/100\n",
      "554/554 [==============================] - 0s 59us/step - loss: 0.2038 - acc: 0.9206 - val_loss: 0.8676 - val_acc: 0.7041\n",
      "Epoch 95/100\n",
      "554/554 [==============================] - 0s 73us/step - loss: 0.2630 - acc: 0.8953 - val_loss: 0.7950 - val_acc: 0.7143\n",
      "Epoch 96/100\n",
      "554/554 [==============================] - 0s 68us/step - loss: 0.2514 - acc: 0.9061 - val_loss: 0.7760 - val_acc: 0.6735\n",
      "Epoch 97/100\n",
      "554/554 [==============================] - 0s 45us/step - loss: 0.2343 - acc: 0.9116 - val_loss: 0.7952 - val_acc: 0.7041\n",
      "Epoch 98/100\n",
      "554/554 [==============================] - 0s 49us/step - loss: 0.2249 - acc: 0.9134 - val_loss: 0.7990 - val_acc: 0.6735\n",
      "Epoch 99/100\n",
      "554/554 [==============================] - 0s 56us/step - loss: 0.2351 - acc: 0.9007 - val_loss: 0.8192 - val_acc: 0.7041\n",
      "Epoch 100/100\n",
      "554/554 [==============================] - 0s 55us/step - loss: 0.2227 - acc: 0.9152 - val_loss: 0.7651 - val_acc: 0.6837\n"
     ]
    }
   ],
   "source": [
    "# model.fit(xTreino, yTreino, epochs=100, batch_size=5)  epochs = 30, batch_size = 128, \n",
    "history = model.fit(xTreino, yTreino, epochs=100,validation_split=0.15, shuffle=True)"
   ]
  },
  {
   "cell_type": "markdown",
   "metadata": {},
   "source": [
    "## Avaliando o modelo"
   ]
  },
  {
   "cell_type": "code",
   "execution_count": 11,
   "metadata": {},
   "outputs": [
    {
     "name": "stdout",
     "output_type": "stream",
     "text": [
      "652/652 [==============================] - 0s 27us/step\n"
     ]
    }
   ],
   "source": [
    "scores = history.model.evaluate(xTreino, yTreino)"
   ]
  },
  {
   "cell_type": "code",
   "execution_count": 12,
   "metadata": {},
   "outputs": [
    {
     "name": "stdout",
     "output_type": "stream",
     "text": [
      "\n",
      "acc: 89.11%\n",
      "\n",
      "loss: 27.63%\n"
     ]
    }
   ],
   "source": [
    "print(\"\\n%s: %.2f%%\" % (history.model.metrics_names[1], scores[1]*100))\n",
    "print(\"\\n%s: %.2f%%\" % (history.model.metrics_names[0], scores[0]*100))\n"
   ]
  },
  {
   "cell_type": "markdown",
   "metadata": {},
   "source": [
    "## Predizendo"
   ]
  },
  {
   "cell_type": "code",
   "execution_count": 13,
   "metadata": {},
   "outputs": [],
   "source": [
    "predictions = history.model.predict(xTeste)"
   ]
  },
  {
   "cell_type": "markdown",
   "metadata": {},
   "source": [
    "### Aredondando os valores"
   ]
  },
  {
   "cell_type": "code",
   "execution_count": 14,
   "metadata": {},
   "outputs": [],
   "source": [
    "yPred = np.array([round(x[0]) for x in predictions])"
   ]
  },
  {
   "cell_type": "markdown",
   "metadata": {},
   "source": [
    "# Visualizar o modelo"
   ]
  },
  {
   "cell_type": "code",
   "execution_count": 15,
   "metadata": {},
   "outputs": [],
   "source": [
    "import itertools\n",
    "from sklearn.metrics import classification_report, confusion_matrix"
   ]
  },
  {
   "cell_type": "code",
   "execution_count": 16,
   "metadata": {},
   "outputs": [],
   "source": [
    "nomes =['Doente','Saudável']"
   ]
  },
  {
   "cell_type": "code",
   "execution_count": 20,
   "metadata": {},
   "outputs": [
    {
     "name": "stdout",
     "output_type": "stream",
     "text": [
      "             precision    recall  f1-score   support\n",
      "\n",
      "     Doente       0.78      0.83      0.81        75\n",
      "   Saudável       0.65      0.59      0.62        41\n",
      "\n",
      "avg / total       0.74      0.74      0.74       116\n",
      "\n"
     ]
    }
   ],
   "source": [
    "print(classification_report(yTeste,yPred, target_names=nomes))"
   ]
  },
  {
   "cell_type": "code",
   "execution_count": 21,
   "metadata": {},
   "outputs": [],
   "source": [
    "def plot_confusion_matrix(cm, classes,\n",
    "                          normalize=False,\n",
    "                          title='Matriz de confusão sobre diabetes',\n",
    "                          cmap=plt.cm.Blues):\n",
    "    \"\"\"\n",
    "    This function prints and plots the confusion matrix.\n",
    "    Normalization can be applied by setting `normalize=True`.\n",
    "    \"\"\"\n",
    "    if normalize:\n",
    "        cm = cm.astype('float') / cm.sum(axis=1)[:, np.newaxis]\n",
    "        print(\"Normalized confusion matrix\")\n",
    "    else:\n",
    "        print('Confusion matrix, without normalization')\n",
    "    plt.figure(figsize=(12,6))\n",
    "    plt.imshow(cm, interpolation='nearest', cmap=cmap)\n",
    "    plt.title(title)\n",
    "    plt.colorbar()\n",
    "    tick_marks = np.arange(len(classes))\n",
    "    plt.xticks(tick_marks, classes, rotation=45)\n",
    "    plt.yticks(tick_marks, classes)\n",
    "\n",
    "    fmt = '.2f' if normalize else 'd'\n",
    "    thresh = cm.max() / 2.\n",
    "    for i, j in itertools.product(range(cm.shape[0]), range(cm.shape[1])):\n",
    "        plt.text(j, i, format(cm[i, j], fmt),\n",
    "                 horizontalalignment=\"center\",\n",
    "                 color=\"white\" if cm[i, j] > thresh else \"black\")\n",
    "\n",
    "    plt.tight_layout()\n",
    "    plt.ylabel('True label')\n",
    "    plt.xlabel('Predicted label')"
   ]
  },
  {
   "cell_type": "code",
   "execution_count": 22,
   "metadata": {},
   "outputs": [],
   "source": [
    "# Compute confusion matrix\n",
    "cnf_matrix = confusion_matrix(yTeste, yPred)\n",
    "np.set_printoptions(precision=2)"
   ]
  },
  {
   "cell_type": "code",
   "execution_count": 23,
   "metadata": {},
   "outputs": [
    {
     "name": "stdout",
     "output_type": "stream",
     "text": [
      "Confusion matrix, without normalization\n"
     ]
    },
    {
     "data": {
      "text/plain": [
       "<Figure size 432x288 with 0 Axes>"
      ]
     },
     "metadata": {},
     "output_type": "display_data"
    },
    {
     "data": {
      "image/png": "[encoded data removed]",
      "text/plain": [
       "<Figure size 864x432 with 2 Axes>"
      ]
     },
     "metadata": {},
     "output_type": "display_data"
    }
   ],
   "source": [
    "# Plot non-normalized confusion matrix\n",
    "plt.figure()\n",
    "plot_confusion_matrix(cnf_matrix, classes=nomes,\n",
    "                      title='Confusion matrix, without normalization')"
   ]
  },
  {
   "cell_type": "code",
   "execution_count": 24,
   "metadata": {},
   "outputs": [
    {
     "name": "stdout",
     "output_type": "stream",
     "text": [
      "Normalized confusion matrix\n"
     ]
    },
    {
     "data": {
      "text/plain": [
       "<Figure size 432x288 with 0 Axes>"
      ]
     },
     "metadata": {},
     "output_type": "display_data"
    },
    {
     "data": {
      "image/png": "[encoded data removed]",
      "text/plain": [
       "<Figure size 864x432 with 2 Axes>"
      ]
     },
     "metadata": {},
     "output_type": "display_data"
    }
   ],
   "source": [
    "# Plot normalized confusion matrix\n",
    "plt.figure()\n",
    "plot_confusion_matrix(cnf_matrix, classes=nomes, normalize=True,\n",
    "                      title='Normalized confusion matrix')\n"
   ]
  },
  {
   "cell_type": "markdown",
   "metadata": {},
   "source": [
    "## Comparativo real e esperado"
   ]
  },
  {
   "cell_type": "code",
   "execution_count": 26,
   "metadata": {},
   "outputs": [
    {
     "data": {
      "image/png": "[encoded data removed]",
      "text/plain": [
       "<Figure size 864x432 with 1 Axes>"
      ]
     },
     "metadata": {},
     "output_type": "display_data"
    }
   ],
   "source": [
    "plt.figure(figsize=(12,6))\n",
    "plt.plot(history.history['acc'])\n",
    "plt.plot(history.history['val_acc'])\n",
    "plt.title('Acuracia')\n",
    "plt.ylabel('accuracy')\n",
    "plt.xlabel('epoch')\n",
    "plt.legend(['Treino', 'Validação'], loc='upper left')\n",
    "plt.show()"
   ]
  }
 ],
 "metadata": {
  "kernelspec": {
   "display_name": "Python 3",
   "language": "python",
   "name": "python3"
  },
  "language_info": {
   "codemirror_mode": {
    "name": "ipython",
    "version": 3
   },
   "file_extension": ".py",
   "mimetype": "text/x-python",
   "name": "python",
   "nbconvert_exporter": "python",
   "pygments_lexer": "ipython3",
   "version": "3.6.4"
  }
 },
 "nbformat": 4,
 "nbformat_minor": 2
}
