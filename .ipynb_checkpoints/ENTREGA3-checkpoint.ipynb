{
 "cells": [
  {
   "cell_type": "code",
   "execution_count": 1,
   "metadata": {},
   "outputs": [
    {
     "name": "stderr",
     "output_type": "stream",
     "text": [
      "Using TensorFlow backend.\n",
      "/home/jonnatas/anaconda3/envs/tcc/lib/python3.6/site-packages/deap/tools/_hypervolume/pyhv.py:33: ImportWarning: Falling back to the python version of hypervolume module. Expect this to be very slow.\n",
      "  \"module. Expect this to be very slow.\", ImportWarning)\n"
     ]
    }
   ],
   "source": [
    "from sklearn.preprocessing import LabelEncoder\n",
    "from sklearn.model_selection import train_test_split\n",
    "from sklearn.linear_model import LogisticRegression\n",
    "from sklearn.neural_network import MLPClassifier\n",
    "\n",
    "from sklearn.metrics import accuracy_score\n",
    "\n",
    "import numpy as np\n",
    "import pandas as pd\n",
    "import matplotlib.pyplot as plt\n",
    "import seaborn as sns\n",
    "%matplotlib inline\n",
    "\n",
    "from keras.models import Sequential\n",
    "from keras.layers import Dense\n",
    "from keras import optimizers\n",
    "\n",
    "from deap import creator, base, tools, algorithms\n",
    "from scoop import futures\n",
    "import random\n",
    "import numpy\n",
    "from scipy import interpolate\n",
    "import matplotlib.pyplot as plt\n",
    "numpy.random.seed(7)\n"
   ]
  },
  {
   "cell_type": "markdown",
   "metadata": {},
   "source": [
    "### Leitura e tratamento dos dados"
   ]
  },
  {
   "cell_type": "code",
   "execution_count": 2,
   "metadata": {},
   "outputs": [],
   "source": [
    "dfData = numpy.loadtxt(\"diabetes.csv\", delimiter=\",\")\n",
    "xdataset = dfData[:, 0:8]\n",
    "ydataset = dfData[:, 8]\n",
    "from sklearn.preprocessing import StandardScaler\n",
    "scaler = StandardScaler()\n",
    "X_scaler = scaler.fit_transform(xdataset)\n",
    "labels = ['gravida',\n",
    "         'glicose plamática',\n",
    "         'perssão arterial diastólica',\n",
    "         'dobra da pele tríceps',\n",
    "         'insulina sérica',\n",
    "         'IMC',\n",
    "         'Função pedigree',\n",
    "         'Idade']\n",
    "allFeatures = pd.DataFrame(X_scaler,columns=labels)\n",
    "allClasses = pd.DataFrame(ydataset,columns=['Diabetes'])"
   ]
  },
  {
   "cell_type": "markdown",
   "metadata": {},
   "source": [
    "### Separando os dados em treino, teste e validação"
   ]
  },
  {
   "cell_type": "code",
   "execution_count": 3,
   "metadata": {},
   "outputs": [],
   "source": [
    "# Form training, test, and validation sets\n",
    "X_trainAndTest, X_validation, y_trainAndTest, y_validation = train_test_split(\n",
    "    allFeatures, allClasses, test_size=0.20, random_state=42)\n",
    "X_train, X_test, y_train, y_test = train_test_split(\n",
    "    X_trainAndTest, y_trainAndTest, test_size=0.20, random_state=42)"
   ]
  },
  {
   "cell_type": "markdown",
   "metadata": {},
   "source": [
    "### Função de Treino, serve para obter a acuracia para a utilizada na função-objetivo"
   ]
  },
  {
   "cell_type": "markdown",
   "metadata": {},
   "source": [
    "* Função de ativação 'sigmoid';\n",
    "* Topologia: E - H - 1;\n",
    "* E = número de entradas entradas, definidas pelo AG;\n",
    "* H = (E * 2) + 1"
   ]
  },
  {
   "cell_type": "code",
   "execution_count": 4,
   "metadata": {},
   "outputs": [],
   "source": [
    "def getTrainMLP(X_trainOhFeatures, y_train, X_testOhFeatures, y_test):\n",
    "    clf = MLPClassifier(solver='lbfgs', max_iter=100, activation='logistic', alpha=1e-5,\n",
    "                        hidden_layer_sizes=(len(X_trainOhFeatures.columns)*2+1,), random_state=1)\n",
    "    clf.fit(X_trainOhFeatures, y_train)\n",
    "    predictions = clf.predict(X_testOhFeatures)\n",
    "    accuracy = accuracy_score(y_test, predictions)\n",
    "    \n",
    "    return accuracy"
   ]
  },
  {
   "cell_type": "code",
   "execution_count": 5,
   "metadata": {},
   "outputs": [],
   "source": [
    "def getTrainRNA(X_trainOhFeatures, y_train, X_testOhFeatures, y_test):\n",
    "    model = Sequential()\n",
    "    model.add(Dense(17,use_bias=True, input_dim=len(X_trainOhFeatures.columns), activation='sigmoid'))\n",
    "    model.add(Dense(1, activation='sigmoid'))\n",
    "\n",
    "    Adamax = optimizers.Adamax(lr=0.002, beta_1=0.9, beta_2=0.999, epsilon=None, decay=0.0)\n",
    "    model.compile(loss='binary_crossentropy', optimizer=Adamax, metrics=['accuracy'])\n",
    "    model.fit(X_trainOhFeatures, y_train, epochs=10, shuffle=True)\n",
    "\n",
    "    predictions=model.predict(X_testOhFeatures)\n",
    "    yPred = np.array([round(x[0]) for x in predictions])\n",
    "    accuracy = accuracy_score(y_test, yPred)\n",
    "    print('Accuracy : '+str(accuracy))\n",
    "    return accuracy"
   ]
  },
  {
   "cell_type": "code",
   "execution_count": 6,
   "metadata": {},
   "outputs": [],
   "source": [
    "# Feature subset fitness function\n",
    "def getFitness(individual, X_train, X_test, y_train, y_test):\n",
    "\n",
    "    # Colocar as features de treinamento, na lista para manipulação.\n",
    "    cols = [index for index in range(len(individual)) if individual[index] == 0]\n",
    "    X_trainParsed = X_train.drop(X_train.columns[cols], axis=1)\n",
    "    X_trainOhFeatures = pd.get_dummies(X_trainParsed)\n",
    "    X_testParsed = X_test.drop(X_test.columns[cols], axis=1)\n",
    "    X_testOhFeatures = pd.get_dummies(X_testParsed)\n",
    "\n",
    "    # Remover as Features que não estão no conjunto de treinamento\n",
    "    sharedFeatures = set(X_trainOhFeatures.columns) & set(X_testOhFeatures.columns)\n",
    "    removeFromTrain = set(X_trainOhFeatures.columns) - sharedFeatures\n",
    "    removeFromTest = set(X_testOhFeatures.columns) - sharedFeatures\n",
    "    X_trainOhFeatures = X_trainOhFeatures.drop(list(removeFromTrain), axis=1)\n",
    "    X_testOhFeatures = X_testOhFeatures.drop(list(removeFromTest), axis=1)\n",
    "\n",
    "    # Chamando a rede neural\n",
    "    accuracy = getTrainMLP(X_trainOhFeatures, y_train, X_testOhFeatures, y_test)\n",
    "\n",
    "    # Return calculated accuracy as fitness\n",
    "    return (accuracy,)"
   ]
  },
  {
   "cell_type": "code",
   "execution_count": 7,
   "metadata": {},
   "outputs": [],
   "source": [
    "def getHof(numPop=100, numGen=10, cxpb=0.5, mutpb=0.2):\n",
    "\n",
    "    pop = toolbox.population(n=numPop)\n",
    "    hof = tools.HallOfFame(numPop * numGen)\n",
    "    stats = tools.Statistics(lambda ind: ind.fitness.values)\n",
    "    stats.register(\"Média\", numpy.mean)\n",
    "    stats.register(\"Des. Padr.\", numpy.std)\n",
    "    stats.register(\"Mínimo\", numpy.min)\n",
    "    stats.register(\"Máximo\", numpy.max)\n",
    "\n",
    "    # Rodando o algoritmo genético\n",
    "    pop, log = algorithms.eaSimple(pop, toolbox, cxpb, mutpb, ngen=numGen, \n",
    "                                       stats=stats, halloffame=hof, verbose=True)\n",
    "    # Return the hall of fame\n",
    "    return hof"
   ]
  },
  {
   "cell_type": "code",
   "execution_count": 8,
   "metadata": {},
   "outputs": [],
   "source": [
    "def getMetrics(hof):\n",
    "\n",
    "    # Pegando a lista com as melhores features.\n",
    "    percentileList = [i / (len(hof) - 1) for i in range(len(hof))]\n",
    "\n",
    "    # Separando as métricas de teste, validação.\n",
    "    testAccuracyList = []\n",
    "    validationAccuracyList = []\n",
    "    individualList = []\n",
    "    \n",
    "    for individual in hof:\n",
    "        testAccuracy = individual.fitness.values\n",
    "        validationAccuracy = getFitness(individual, X_trainAndTest, X_validation, y_trainAndTest, y_validation)\n",
    "        testAccuracyList.append(testAccuracy[0])\n",
    "        validationAccuracyList.append(validationAccuracy[0])\n",
    "        individualList.append(individual)\n",
    "    testAccuracyList.reverse()\n",
    "    validationAccuracyList.reverse()\n",
    "    \n",
    "    return testAccuracyList, validationAccuracyList, individualList, percentileList"
   ]
  },
  {
   "cell_type": "markdown",
   "metadata": {},
   "source": [
    "### Rodando a rede para comparar a acurácia antes da seleção das features"
   ]
  },
  {
   "cell_type": "code",
   "execution_count": 9,
   "metadata": {},
   "outputs": [
    {
     "name": "stderr",
     "output_type": "stream",
     "text": [
      "/home/jonnatas/anaconda3/envs/tcc/lib/python3.6/site-packages/sklearn/neural_network/multilayer_perceptron.py:912: DataConversionWarning: A column-vector y was passed when a 1d array was expected. Please change the shape of y to (n_samples, ), for example using ravel().\n",
      "  y = column_or_1d(y, warn=True)\n"
     ]
    },
    {
     "name": "stdout",
     "output_type": "stream",
     "text": [
      "\n",
      "Precisão de teste com todas as features: \t0.658536585366\n",
      "Precisão de validação com todas as features: \t0.688311688312\n",
      "\n",
      "Features: 8\n"
     ]
    },
    {
     "data": {
      "text/plain": [
       "Index(['gravida', 'glicose plamática', 'perssão arterial diastólica',\n",
       "       'dobra da pele tríceps', 'insulina sérica', 'IMC', 'Função pedigree',\n",
       "       'Idade'],\n",
       "      dtype='object')"
      ]
     },
     "execution_count": 9,
     "metadata": {},
     "output_type": "execute_result"
    }
   ],
   "source": [
    "individual = [1 for i in range(len(allFeatures.columns))]\n",
    "testAccuracy = getFitness(individual, X_train, X_test, y_train, y_test)\n",
    "validationAccuracy = getFitness(individual, X_trainAndTest, X_validation, y_trainAndTest, y_validation)\n",
    "print('\\nPrecisão de teste com todas as features: \\t' + str(testAccuracy[0]))\n",
    "print('Precisão de validação com todas as features: \\t' + str(validationAccuracy[0]) + '\\n')\n",
    "print('Features: '+str(len(allFeatures.columns)))\n",
    "allFeatures.columns"
   ]
  },
  {
   "cell_type": "markdown",
   "metadata": {},
   "source": [
    "# Algoritmo genético, para selecionar as features.\n",
    "\n",
    "## Crossover\n",
    "* cxOnePoint, cruza os dados de dois pontos, taxa de 0.2\n",
    "\n",
    "## Mutação\n",
    "* mutFlipBit, taxa de mutação com 0.05.\n",
    "\n",
    "## Seleção\n",
    "* selTournament, Utiliza a seleção por torneio\n"
   ]
  },
  {
   "cell_type": "code",
   "execution_count": 10,
   "metadata": {},
   "outputs": [],
   "source": [
    "# Cria uma classe para o individuo.\n",
    "creator.create(\"FitnessMax\", base.Fitness, weights=(1.0,))\n",
    "creator.create(\"Individual\", list, fitness=creator.FitnessMax)\n",
    "\n",
    "# Cria um o AG com um Toolbox.\n",
    "toolbox = base.Toolbox()\n",
    "toolbox.register(\"attr_bool\", random.randint, 0, 1)\n",
    "toolbox.register(\"individual\", tools.initRepeat, creator.Individual, \n",
    "                 toolbox.attr_bool, len(allFeatures.columns))\n",
    "toolbox.register(\"population\", tools.initRepeat, list, toolbox.individual)\n",
    "\n",
    "# Configurando o AG\n",
    "toolbox.register(\"evaluate\", getFitness, X_train=X_train, X_test=X_test, y_train=y_train, y_test=y_test)\n",
    "toolbox.register(\"mate\", tools.cxOnePoint)\n",
    "toolbox.register(\"mutate\", tools.mutFlipBit, indpb=0.05)\n",
    "toolbox.register(\"select\", tools.selTournament, tournsize=3)"
   ]
  },
  {
   "cell_type": "code",
   "execution_count": 11,
   "metadata": {},
   "outputs": [
    {
     "name": "stderr",
     "output_type": "stream",
     "text": [
      "/home/jonnatas/anaconda3/envs/tcc/lib/python3.6/site-packages/sklearn/neural_network/multilayer_perceptron.py:912: DataConversionWarning: A column-vector y was passed when a 1d array was expected. Please change the shape of y to (n_samples, ), for example using ravel().\n",
      "  y = column_or_1d(y, warn=True)\n"
     ]
    },
    {
     "name": "stdout",
     "output_type": "stream",
     "text": [
      "gen\tnevals\tMédia   \tDes. Padr.\tMínimo  \tMáximo  \n",
      "0  \t100   \t0.676748\t0.0551543 \t0.544715\t0.796748\n",
      "1  \t67    \t0.718293\t0.043893  \t0.626016\t0.796748\n",
      "2  \t57    \t0.746341\t0.0331245 \t0.674797\t0.796748\n",
      "3  \t48    \t0.76561 \t0.0303341 \t0.658537\t0.804878\n",
      "4  \t62    \t0.783333\t0.0241827 \t0.691057\t0.804878\n",
      "5  \t76    \t0.792195\t0.0182997 \t0.691057\t0.813008\n",
      "6  \t55    \t0.800244\t0.0133717 \t0.707317\t0.813008\n",
      "7  \t63    \t0.800894\t0.0190492 \t0.691057\t0.813008\n",
      "8  \t52    \t0.803171\t0.0173342 \t0.691057\t0.813008\n",
      "9  \t61    \t0.805285\t0.0208668 \t0.691057\t0.813008\n",
      "10 \t57    \t0.807886\t0.0185628 \t0.691057\t0.813008\n"
     ]
    }
   ],
   "source": [
    "hof = getHof(numPop=100, numGen=10, cxpb=0.5, mutpb=0.2)\n",
    "testAccuracyList, validationAccuracyList, individualList, percentileList = getMetrics(hof)"
   ]
  },
  {
   "cell_type": "markdown",
   "metadata": {},
   "source": [
    "### Melhores dados relacionados as Features"
   ]
  },
  {
   "cell_type": "code",
   "execution_count": 12,
   "metadata": {},
   "outputs": [
    {
     "name": "stdout",
     "output_type": "stream",
     "text": [
      "\n",
      "---Seleção de features---\n",
      "\n",
      "Precisão de treino: \t\t0.7132867132867133\n",
      "Precisão de validação: \t\t0.811688311688\n",
      "Individuo: \t\t\t[1, 0, 1, 0, 0, 0, 1, 1]\n",
      "Total de Features utilizadas: \t4\n",
      "Features: \t\t\t['gravida', 'perssão arterial diastólica', 'Função pedigree', 'Idade']\n"
     ]
    }
   ],
   "source": [
    "maxValAccSubsetIndicies = [index for index in range(len(validationAccuracyList)) if validationAccuracyList[index] == max(validationAccuracyList)]\n",
    "maxValIndividuals = [individualList[index] for index in maxValAccSubsetIndicies]\n",
    "maxValSubsets = [[list(allFeatures)[index] for index in range(len(individual)) if individual[index] == 1] for individual in maxValIndividuals]\n",
    "print('\\n---Seleção de features---\\n')\n",
    "\n",
    "for index in range(len(maxValAccSubsetIndicies)):\n",
    "    print('Precisão de treino: \\t\\t' + str(percentileList[maxValAccSubsetIndicies[index]]))\n",
    "    print('Precisão de validação: \\t\\t' + str(validationAccuracyList[maxValAccSubsetIndicies[index]]))\n",
    "    print('Individuo: \\t\\t\\t' + str(maxValIndividuals[index]))\n",
    "    print('Total de Features utilizadas: \\t' + str(len(maxValSubsets[index])))\n",
    "    print('Features: \\t\\t\\t' + str(maxValSubsets[index]))"
   ]
  },
  {
   "cell_type": "markdown",
   "metadata": {},
   "source": [
    "## Gráfico de comparação\n",
    "### Considerando os piores conjuntos, até os melhores."
   ]
  },
  {
   "cell_type": "code",
   "execution_count": 13,
   "metadata": {},
   "outputs": [
    {
     "name": "stderr",
     "output_type": "stream",
     "text": [
      "/home/jonnatas/anaconda3/envs/tcc/lib/python3.6/site-packages/matplotlib/figure.py:459: UserWarning: matplotlib is currently using a non-GUI backend, so cannot show the figure\n",
      "  \"matplotlib is currently using a non-GUI backend, \"\n"
     ]
    },
    {
     "data": {
      "image/png": "[encoded data removed]",
      "text/plain": [
       "<Figure size 432x288 with 1 Axes>"
      ]
     },
     "metadata": {},
     "output_type": "display_data"
    },
    {
     "data": {
      "image/png": "[encoded data removed]",
      "text/plain": [
       "<Figure size 432x288 with 1 Axes>"
      ]
     },
     "metadata": {},
     "output_type": "display_data"
    }
   ],
   "source": [
    "tck = interpolate.splrep(percentileList, validationAccuracyList, s=5.0)\n",
    "ynew = interpolate.splev(percentileList, tck)\n",
    "\n",
    "e = plt.figure(1)\n",
    "plt.plot(percentileList, validationAccuracyList, marker='o', color='r')\n",
    "plt.plot(percentileList, ynew, color='b')\n",
    "plt.title('Validação Set Classification Accuracy vs. \\n Continuum with Cubic-Spline Interpolation')\n",
    "plt.xlabel('Population Ordered By Increasing Test Set Accuracy')\n",
    "plt.ylabel('Precisão do dados de validação')\n",
    "e.show()\n",
    "\n",
    "g = plt.figure(2)\n",
    "plt.scatter(percentileList, testAccuracyList)\n",
    "plt.title('Classificação dos dados de Teste vs. Continuum')\n",
    "plt.xlabel('Population Ordered By Increasing Test Set Accuracy')\n",
    "plt.ylabel('Precisão do dados de testes')\n",
    "g.show()"
   ]
  },
  {
   "cell_type": "code",
   "execution_count": null,
   "metadata": {},
   "outputs": [],
   "source": []
  }
 ],
 "metadata": {
  "kernelspec": {
   "display_name": "Python 3",
   "language": "python",
   "name": "python3"
  },
  "language_info": {
   "codemirror_mode": {
    "name": "ipython",
    "version": 3
   },
   "file_extension": ".py",
   "mimetype": "text/x-python",
   "name": "python",
   "nbconvert_exporter": "python",
   "pygments_lexer": "ipython3",
   "version": "3.6.4"
  }
 },
 "nbformat": 4,
 "nbformat_minor": 2
}
